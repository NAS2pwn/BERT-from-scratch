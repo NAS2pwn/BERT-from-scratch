{
 "cells": [
  {
   "cell_type": "markdown",
   "metadata": {},
   "source": [
    "# Spam classifier using BERT\n",
    "\n",
    "Ce projet est pédagogique, je souhaite comprendre le fonctionnement de BERT et son utilisation pour un classifieur de spam."
   ]
  },
  {
   "cell_type": "markdown",
   "metadata": {},
   "source": [
    "On définit le processeur à utiliser, si on a un GPU on l'utilise, sinon on utilise le CPU."
   ]
  },
  {
   "cell_type": "code",
   "execution_count": 1,
   "metadata": {},
   "outputs": [],
   "source": [
    "import torch\n",
    "\n",
    "device = torch.device(\"cuda\" if torch.cuda.is_available() else \"cpu\")"
   ]
  },
  {
   "cell_type": "markdown",
   "metadata": {},
   "source": [
    "J'importe le dataset, le l'encode en latin-1 pour éviter les erreurs d'encodage, et je le formate de façon à n'avoir que deux colonnes : text et label. Label vaudra 1 si c'est un spam, 0 sinon."
   ]
  },
  {
   "cell_type": "code",
   "execution_count": 2,
   "metadata": {},
   "outputs": [
    {
     "name": "stdout",
     "output_type": "stream",
     "text": [
      "   label                                               text\n",
      "0      0  Go until jurong point, crazy.. Available only ...\n",
      "1      0                      Ok lar... Joking wif u oni...\n",
      "2      1  Free entry in 2 a wkly comp to win FA Cup fina...\n",
      "3      0  U dun say so early hor... U c already then say...\n",
      "4      0  Nah I don't think he goes to usf, he lives aro...\n"
     ]
    }
   ],
   "source": [
    "import pandas as pd\n",
    "\n",
    "df = pd.read_csv(\"./spam.csv\", encoding=\"latin-1\", usecols=[\"v1\", \"v2\"])\n",
    "df = df.rename(columns={\"v1\": \"label\", \"v2\": \"text\"})\n",
    "df[\"label\"] = df[\"label\"].map({\"spam\": 1, \"ham\": 0})\n",
    "print(df.head())"
   ]
  },
  {
   "cell_type": "markdown",
   "metadata": {},
   "source": [
    "Je vérifie la distribution des labels. Il y a 13.5% de spam."
   ]
  },
  {
   "cell_type": "code",
   "execution_count": 3,
   "metadata": {},
   "outputs": [
    {
     "name": "stdout",
     "output_type": "stream",
     "text": [
      "label\n",
      "0    0.865937\n",
      "1    0.134063\n",
      "Name: proportion, dtype: float64\n"
     ]
    }
   ],
   "source": [
    "distribution = df['label'].value_counts(normalize = True)\n",
    "print(distribution)"
   ]
  },
  {
   "cell_type": "markdown",
   "metadata": {},
   "source": [
    "On divise le dataset en train (70%), validation (15%) et test (15%). On vérifie la distribution des labels dans les différents datasets pour voir si c'est bien uniforme.\n",
    "\n",
    "Grâce aux seeds, peu importe si on relance le code, les datasets seront identiques."
   ]
  },
  {
   "cell_type": "code",
   "execution_count": 8,
   "metadata": {},
   "outputs": [
    {
     "name": "stdout",
     "output_type": "stream",
     "text": [
      "Distribution des labels dans le train set : label\n",
      "0    0.865897\n",
      "1    0.134103\n",
      "Name: proportion, dtype: float64\n",
      "Distribution des labels dans le validation set : label\n",
      "0    0.866029\n",
      "1    0.133971\n",
      "Name: proportion, dtype: float64\n",
      "Distribution des labels dans le test set : label\n",
      "0    0.866029\n",
      "1    0.133971\n",
      "Name: proportion, dtype: float64\n"
     ]
    }
   ],
   "source": [
    "from sklearn.model_selection import train_test_split\n",
    "\n",
    "train_text, rest_text, train_labels, rest_labels = train_test_split(\n",
    "    df['text'], df['label'], \n",
    "    random_state=1234, # Seed pour la reproductibilité, on évite un biais\n",
    "    test_size=0.3, \n",
    "    stratify=df['label']\n",
    ")\n",
    "\n",
    "val_text, test_text, val_labels, test_labels = train_test_split(\n",
    "    rest_text, rest_labels, \n",
    "    random_state=5678, \n",
    "    test_size=0.5, \n",
    "    stratify=rest_labels\n",
    ")\n",
    "\n",
    "print(\"Distribution des labels dans le train set :\", train_labels.value_counts(normalize=True))\n",
    "print(\"Distribution des labels dans le validation set :\", val_labels.value_counts(normalize=True))\n",
    "print(\"Distribution des labels dans le test set :\", test_labels.value_counts(normalize=True))"
   ]
  },
  {
   "cell_type": "code",
   "execution_count": 32,
   "metadata": {},
   "outputs": [
    {
     "name": "stdout",
     "output_type": "stream",
     "text": [
      "Then we gotta do it after that\n"
     ]
    }
   ],
   "source": [
    "# Récupérer le texte de la troisième entrée de train_text\n",
    "print(train_text.iloc[2])  # Affiche le texte à l'index 2"
   ]
  },
  {
   "cell_type": "markdown",
   "metadata": {},
   "source": [
    "On import un modèle BERT pré-entraîné et son tokenizer.\n",
    "bert-base-uncased est un modèle BET de taille standard avec 12 couches, 768 dimensions cachées et 12 têtes d'attention.\n",
    "Toutes les lettres sont en minuscules et les accents sont supprimés."
   ]
  },
  {
   "cell_type": "code",
   "execution_count": 9,
   "metadata": {},
   "outputs": [],
   "source": [
    "from transformers import AutoModel, BertTokenizerFast\n",
    "\n",
    "bert = AutoModel.from_pretrained('bert-base-uncased')\n",
    "tokenizer = BertTokenizerFast.from_pretrained('bert-base-uncased', clean_up_tokenization_spaces=False)"
   ]
  },
  {
   "cell_type": "markdown",
   "metadata": {},
   "source": [
    "On affiche l'histogramme de la longueur des textes dans le train set."
   ]
  },
  {
   "cell_type": "code",
   "execution_count": 10,
   "metadata": {},
   "outputs": [
    {
     "data": {
      "image/png": "[encoded data removed]",
      "text/plain": [
       "<Figure size 640x480 with 1 Axes>"
      ]
     },
     "metadata": {},
     "output_type": "display_data"
    }
   ],
   "source": [
    "import matplotlib.pyplot as plt\n",
    "\n",
    "seq_len = [len(i.split()) for i in train_text]\n",
    "\n",
    "pd.Series(seq_len).hist(bins = 50)\n",
    "\n",
    "plt.show()"
   ]
  },
  {
   "cell_type": "markdown",
   "metadata": {},
   "source": [
    "On tokenize le train set, le validation set et le test set."
   ]
  },
  {
   "cell_type": "code",
   "execution_count": 11,
   "metadata": {},
   "outputs": [
    {
     "name": "stderr",
     "output_type": "stream",
     "text": [
      "/home/lezarman/.virtualenvs/BERT-from-scratch-CDIVNApH/lib/python3.8/site-packages/transformers/tokenization_utils_base.py:2870: FutureWarning: The `pad_to_max_length` argument is deprecated and will be removed in a future version, use `padding=True` or `padding='longest'` to pad to the longest sequence in the batch, or use `padding='max_length'` to pad to a max length. In this case, you can give a specific length with `max_length` (e.g. `max_length=45`) or leave max_length to None to pad to the maximal input size of the model (e.g. 512 for Bert).\n",
      "  warnings.warn(\n"
     ]
    },
    {
     "name": "stdout",
     "output_type": "stream",
     "text": [
      "Encoding(num_tokens=25, attributes=[ids, type_ids, tokens, offsets, attention_mask, special_tokens_mask, overflowing])\n",
      "Encoding(num_tokens=25, attributes=[ids, type_ids, tokens, offsets, attention_mask, special_tokens_mask, overflowing])\n",
      "Encoding(num_tokens=25, attributes=[ids, type_ids, tokens, offsets, attention_mask, special_tokens_mask, overflowing])\n"
     ]
    }
   ],
   "source": [
    "tokens_train = tokenizer.batch_encode_plus(\n",
    "    train_text.tolist(),\n",
    "    max_length = 25,\n",
    "    pad_to_max_length=True,\n",
    "    truncation=True,\n",
    ")\n",
    "\n",
    "tokens_val = tokenizer.batch_encode_plus(\n",
    "    val_text.tolist(),\n",
    "    max_length = 25,\n",
    "    pad_to_max_length=True,\n",
    "    truncation=True,\n",
    ")\n",
    "\n",
    "tokens_test = tokenizer.batch_encode_plus(\n",
    "    test_text.tolist(),\n",
    "    max_length = 25,\n",
    "    pad_to_max_length = True,\n",
    "    truncation = True,\n",
    ")\n",
    "\n",
    "print(tokens_train[0])\n",
    "print(tokens_val[0])\n",
    "print(tokens_test[0])"
   ]
  },
  {
   "cell_type": "markdown",
   "metadata": {},
   "source": [
    "On crée les tenseurs pour le train set, le validation set et le test set."
   ]
  },
  {
   "cell_type": "code",
   "execution_count": 12,
   "metadata": {},
   "outputs": [],
   "source": [
    "train_seq = torch.tensor(tokens_train['input_ids'])\n",
    "train_mask = torch.tensor(tokens_train['attention_mask'])\n",
    "train_y = torch.tensor(train_labels.tolist())\n",
    "\n",
    "val_seq = torch.tensor(tokens_val['input_ids'])\n",
    "val_mask = torch.tensor(tokens_val['attention_mask'])\n",
    "val_y = torch.tensor(val_labels.tolist())\n",
    "\n",
    "test_seq = torch.tensor(tokens_test['input_ids'])\n",
    "test_mask = torch.tensor(tokens_test['attention_mask'])\n",
    "test_y = torch.tensor(test_labels.tolist())"
   ]
  },
  {
   "cell_type": "markdown",
   "metadata": {},
   "source": [
    "J'affiche les tenseurs ci-dessous.\n",
    "train_seq, c'est la séquence d'identifiant de tokens pour chaque texte. En gros pour chaque token on cherche dans un index le mot correspondant et on le remplace par son identifiant. \n",
    "\n",
    "Tous les vecteurs ont la même longueur, 25. Cela permet d'éviter la malédiction de la dimensionnalité.\n"
   ]
  },
  {
   "cell_type": "code",
   "execution_count": 19,
   "metadata": {},
   "outputs": [
    {
     "name": "stdout",
     "output_type": "stream",
     "text": [
      "train_seq :\n",
      " tensor([[  101,  6694,  1005,  ...,  2611, 11199,   102],\n",
      "        [  101,  2423,  2361,  ...,  1012, 19067,   102],\n",
      "        [  101,  2059,  2057,  ...,     0,     0,     0],\n",
      "        ...,\n",
      "        [  101,  7592, 18237,  ...,     0,     0,     0],\n",
      "        [  101,  1045,  2228,  ...,  2412,  2131,   102],\n",
      "        [  101,  7592,  1010,  ...,  2424,  2070,   102]])\n",
      "Premier vecteur train_seq :  tensor([  101,  6694,  1005,  1055, 20661,  2085,   999, 19067,  2102,  2611,\n",
      "         2030,  1038, 29027,  2063,  1004, 24471,  2171,  1004,  2287,  1010,\n",
      "         1041,  2290,  2611, 11199,   102])\n",
      "Troisième vecteur train_seq :  tensor([  101,  2059,  2057, 10657,  2079,  2009,  2044,  2008,   102,     0,\n",
      "            0,     0,     0,     0,     0,     0,     0,     0,     0,     0,\n",
      "            0,     0,     0,     0,     0])\n",
      "Longueur des vecteurs train_seq :  25\n"
     ]
    }
   ],
   "source": [
    "print(\"train_seq :\\n\", train_seq)\n",
    "print(\"Premier vecteur train_seq : \", train_seq[0])\n",
    "print(\"Troisième vecteur train_seq : \", train_seq[2])\n",
    "print(\"Longueur des vecteurs train_seq : \", len(train_seq[0]))\n"
   ]
  },
  {
   "cell_type": "markdown",
   "metadata": {},
   "source": [
    "Nous allons maintenant afficher le mask.\n",
    "train_mask, c'est la séquence d'attention. Si un texte est plus court que les autres, les valeurs non utilisées sont marquées par des 0.\n",
    "Comme vous pouvez le voir juste au dessus, le troisième texte est plus court que le premier, on voit que les 0 du troisième vecteur sont les mêmes que sur son mask."
   ]
  },
  {
   "cell_type": "code",
   "execution_count": 20,
   "metadata": {},
   "outputs": [
    {
     "name": "stdout",
     "output_type": "stream",
     "text": [
      "train_mask :\n",
      " tensor([[1, 1, 1,  ..., 1, 1, 1],\n",
      "        [1, 1, 1,  ..., 1, 1, 1],\n",
      "        [1, 1, 1,  ..., 0, 0, 0],\n",
      "        ...,\n",
      "        [1, 1, 1,  ..., 0, 0, 0],\n",
      "        [1, 1, 1,  ..., 1, 1, 1],\n",
      "        [1, 1, 1,  ..., 1, 1, 1]])\n",
      "Premier vecteur train_mask :  tensor([1, 1, 1, 1, 1, 1, 1, 1, 1, 1, 1, 1, 1, 1, 1, 1, 1, 1, 1, 1, 1, 1, 1, 1,\n",
      "        1])\n",
      "Troisième vecteur train_mask :  tensor([1, 1, 1, 1, 1, 1, 1, 1, 1, 0, 0, 0, 0, 0, 0, 0, 0, 0, 0, 0, 0, 0, 0, 0,\n",
      "        0])\n",
      "Longueur des vecteurs train_mask :  25\n"
     ]
    }
   ],
   "source": [
    "print(\"train_mask :\\n\", train_mask)\n",
    "print(\"Premier vecteur train_mask : \", train_mask[0])\n",
    "print(\"Troisième vecteur train_mask : \", train_mask[2])\n",
    "print(\"Longueur des vecteurs train_mask : \", len(train_mask[0]))\n",
    "\n"
   ]
  },
  {
   "cell_type": "markdown",
   "metadata": {},
   "source": [
    "Le tenseur train_y contient le label pour chaque texte.\n",
    "Il est donc de la même longueur que le train set (3900 ici).\n",
    "Toujours, 1 si c'est un spam, 0 sinon."
   ]
  },
  {
   "cell_type": "code",
   "execution_count": 22,
   "metadata": {},
   "outputs": [
    {
     "name": "stdout",
     "output_type": "stream",
     "text": [
      "train_y :\n",
      " tensor([1, 1, 0,  ..., 0, 0, 0])\n",
      "Longueur du vecteur train_y :  3900\n"
     ]
    }
   ],
   "source": [
    "print(\"train_y :\\n\", train_y)\n",
    "print(\"Longueur du vecteur train_y : \", len(train_y))"
   ]
  },
  {
   "cell_type": "markdown",
   "metadata": {},
   "source": [
    "Pour finir, voici les shapes des tenseurs. Comme on peut le déduire des cellules précédente, ils représentent le nombre des vecteurs et la taille des vecteurs."
   ]
  },
  {
   "cell_type": "code",
   "execution_count": 23,
   "metadata": {},
   "outputs": [
    {
     "name": "stdout",
     "output_type": "stream",
     "text": [
      "torch.Size([3900, 25])\n",
      "torch.Size([3900, 25])\n",
      "torch.Size([3900])\n"
     ]
    }
   ],
   "source": [
    "print(train_seq.shape)\n",
    "print(train_mask.shape)\n",
    "print(train_y.shape)"
   ]
  },
  {
   "cell_type": "markdown",
   "metadata": {},
   "source": [
    "Nous allons maintenant créer un DataLoader pour le train set.\n",
    "\n",
    "Un DataLoader est un itérateur qui permet de parcourir le dataset de manière efficace.\n",
    "\n",
    "Il prend en entrée un dataset et un sampler, et renvoie un batch de données à chaque itération.\n",
    "\n",
    "Le sampler est un objet qui permet de récupérer les indices des données à utiliser pour le batch.\n",
    "\n",
    "RandomSampler est un sampler qui permet de récupérer des indices de manière aléatoire.\n",
    "SequentialSampler est un sampler qui permet de récupérer des indices de manière séquentielle.\n",
    "\n",
    "On définit la taille du batch à 32.\n",
    "\n",
    "D'abord on regroupe les tenseurs dans TensorDataset.\n",
    "\n",
    "Ensuite on crée le RandomSampler pour éviter que l'algorithme apprenne l'ordre des données (ce qui n'a aucun intérêt ici et pourrait mener à une sur-adaptation)\n",
    "\n",
    "Enfin on crée le DataLoader qui va nous permettre de parcourir le dataset.\n",
    "\n",
    "On utilise des batch de 32 données pour optimiser les performances. Si on devait charger les 3900 données en mémoire on serait limité par la mémoire de la machine."
   ]
  },
  {
   "cell_type": "code",
   "execution_count": 26,
   "metadata": {},
   "outputs": [
    {
     "name": "stdout",
     "output_type": "stream",
     "text": [
      "(tensor([[  101,  6694,  1005,  ...,  2611, 11199,   102],\n",
      "        [  101,  2423,  2361,  ...,  1012, 19067,   102],\n",
      "        [  101,  2059,  2057,  ...,     0,     0,     0],\n",
      "        ...,\n",
      "        [  101,  7592, 18237,  ...,     0,     0,     0],\n",
      "        [  101,  1045,  2228,  ...,  2412,  2131,   102],\n",
      "        [  101,  7592,  1010,  ...,  2424,  2070,   102]]), tensor([[1, 1, 1,  ..., 1, 1, 1],\n",
      "        [1, 1, 1,  ..., 1, 1, 1],\n",
      "        [1, 1, 1,  ..., 0, 0, 0],\n",
      "        ...,\n",
      "        [1, 1, 1,  ..., 0, 0, 0],\n",
      "        [1, 1, 1,  ..., 1, 1, 1],\n",
      "        [1, 1, 1,  ..., 1, 1, 1]]), tensor([1, 1, 0,  ..., 0, 0, 0]))\n"
     ]
    }
   ],
   "source": [
    "from torch.utils.data import TensorDataset, DataLoader, RandomSampler\n",
    "\n",
    "batch_size = 32\n",
    "\n",
    "train_data = TensorDataset(train_seq, train_mask, train_y)\n",
    "train_sampler = RandomSampler(train_data)\n",
    "train_dataloader = DataLoader(train_data, sampler=train_sampler, batch_size=batch_size)\n",
    "\n",
    "print(train_data.tensors)"
   ]
  },
  {
   "cell_type": "markdown",
   "metadata": {},
   "source": [
    "Nous voulons éviter que les paramètres du BERT soient mis à jour dans le processus d'apprentissage.\n",
    "\n",
    "Dans d'autres termes, on veut conserver les apprentissages de BERT durant sa phase de pré-entraînement et les utiliser tel quel dans notre modèle.\n",
    "\n",
    "En effet, avec notre petit dataset, mettre à jour les paramètres de BERT pourrait facilement mener à une sur-adaptation.\n",
    "\n",
    "Pour ce faire, on désactive le calcul des gradients pour les paramètres de BERT."
   ]
  },
  {
   "cell_type": "code",
   "execution_count": null,
   "metadata": {},
   "outputs": [],
   "source": [
    "for param in bert.parameters():\n",
    "    param.requires_grad = False"
   ]
  },
  {
   "cell_type": "markdown",
   "metadata": {},
   "source": [
    "On va utiliser le module nn servant à construire des réseaux de neurones.\n",
    "\n",
    "La classe hérite donc de nn.Module, ce qui est essentiel pour que PyTorch puisse reconnaître notre classe comme un modèle de réseau de neurones.\n",
    "\n",
    "Voici une explication de chaque attribut de la classe :\n",
    "- self.bert : c'est le modèle BERT que nous avons importé et chargé précédemment.\n",
    "- self.dropout : Il s'agit de la couche de Dropout. Elle est appliquée sur les sorties de la couche précédente pour réduire le sur-apprentissage. Dans notre cas, on applique une Dropout de 0.1, ce qui signifie que 10% des neurones sont désactivés (probabilité de 0.1 qu'un neurone donné soit désactivé).\n",
    "- self.relu : Il s'agit de la fonction d'activation ReLU. Elle est appliquée à la sortie de la couche précédente pour introduire une non-linéarité dans le modèle. Sans cela, les réseaux de neurones ne pourraient pas apprendre des fonctions non-linéaires.\n",
    "- self.fc1 : C'est la première couche linéaire (fully connected layer n°1). Elle prend en entrée les sorties de la couche précédente et les transforme en une sortie de taille 512.\n",
    "- self.fc2 : C'est la seconde couche linéaire (fully connected layer n°2). Elle prend en entrée les sorties de la première couche linéaire et les transforme en une sortie de taille 2 (spam ou ham).\n",
    "- self.softmax : Il s'agit de la fonction softmax. Elle est appliquée à la sortie de la seconde couche linéaire pour transformer les valeurs en probabilités. Pour faire simple, elle permet de contenir les valeurs entre 0 et 1 et de s'assurer que la somme des probabilités de spam et ham est égale à 1.\n",
    "\n",
    "Ces attributs sont initialisés dans la méthode __init__.\n",
    "\n",
    "La méthode forward est la méthode qui définit le forward pass du modèle. Elle décrit comment les données sont propagées à travers le modèle. Elle prend en entrée les tenseurs sent_id et mask.\n",
    "- sent_id : sentence id, c'est la séquence d'identifiant de tokens pour chaque texte.\n",
    "- mask : c'est la séquence d'attention. Si un texte est plus court que les autres, les valeurs non utilisées sont marquées par des 0.\n",
    "\n",
    "On applique ensuite la première couche linéaire à la sortie de la couche précédente.\n",
    "\n",
    "Puis on applique la fonction d'activation ReLU.\n",
    "\n",
    "Puis on applique la Dropout.\n",
    "\n",
    "Enfin on applique la seconde couche linéaire.\n",
    "\n",
    "La sortie de cette méthode est la probabilité de spam ou ham pour chaque texte, qu'on rend exploitable grâce à la fonction softmax.\n"
   ]
  },
  {
   "cell_type": "code",
   "execution_count": 33,
   "metadata": {},
   "outputs": [],
   "source": [
    "import torch.nn as nn\n",
    "\n",
    "class BERT_Arch(nn.Module):\n",
    "    def __init__(self, bert):\n",
    "        super(BERT_Arch, self).__init__()\n",
    "        self.bert = bert\n",
    "        self.dropout = nn.Dropout(0.1)\n",
    "        self.relu = nn.ReLU()\n",
    "        self.fc1 = nn.Linear(768, 512)\n",
    "        self.fc2 = nn.Linear(512, 2)\n",
    "        self.softmax = nn.LogSoftmax(dim=1)\n",
    "\n",
    "    def forward(self, sent_id, mask):\n",
    "        _, cls_hs = self.bert(sent_id, attention_mask=mask, return_dict=False)\n",
    "        print(cls_hs.shape)\n",
    "        print(sent_id.shape)\n",
    "        x = self.fc1(cls_hs)\n",
    "        x = self.relu(x)\n",
    "        x = self.dropout(x)\n",
    "        x = self.fc2(x)\n",
    "        return self.softmax(x)"
   ]
  },
  {
   "cell_type": "markdown",
   "metadata": {},
   "source": [
    "Ici, on instancie notre modèle."
   ]
  },
  {
   "cell_type": "code",
   "execution_count": null,
   "metadata": {},
   "outputs": [],
   "source": [
    "model = BERT_Arch(bert)\n",
    "model = model.to(device)"
   ]
  },
  {
   "cell_type": "markdown",
   "metadata": {},
   "source": [
    "Bon là faut que j'étudie AdamW en vrai, petite pause sur ce notebook."
   ]
  }
 ],
 "metadata": {
  "kernelspec": {
   "display_name": "BERT-from-scratch-CDIVNApH",
   "language": "python",
   "name": "python3"
  },
  "language_info": {
   "codemirror_mode": {
    "name": "ipython",
    "version": 3
   },
   "file_extension": ".py",
   "mimetype": "text/x-python",
   "name": "python",
   "nbconvert_exporter": "python",
   "pygments_lexer": "ipython3",
   "version": "3.8.10"
  }
 },
 "nbformat": 4,
 "nbformat_minor": 2
}
